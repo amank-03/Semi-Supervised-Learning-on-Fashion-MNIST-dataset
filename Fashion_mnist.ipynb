{
  "nbformat": 4,
  "nbformat_minor": 0,
  "metadata": {
    "colab": {
      "name": "Fashion_mnist",
      "provenance": [],
      "collapsed_sections": []
    },
    "kernelspec": {
      "name": "python3",
      "display_name": "Python 3"
    },
    "language_info": {
      "name": "python"
    }
  },
  "cells": [
    {
      "cell_type": "markdown",
      "source": [
        "# DMML - Assignment 3: Semi-Supervised Learning\n",
        "- Aman Kumar [MDS202104]\n",
        "- Jayasooryan C S [MDS202119]"
      ],
      "metadata": {
        "id": "SOQIb8lQI4w9"
      }
    },
    {
      "cell_type": "markdown",
      "source": [
        "## Objective:\n",
        "- Use clustering for semi-supervised learning of the MNIST Fasion dataset\n",
        "  - Identify a small subset of labelled images using K Means clustering to seed the classification process\n",
        "  - Train the model using labeled centeroid of the clusters\n",
        "  - Train the  model by propagating the label of the centroid to its nearest neighbours"
      ],
      "metadata": {
        "id": "WS5ErntSobFN"
      }
    },
    {
      "cell_type": "markdown",
      "source": [
        "## Imports "
      ],
      "metadata": {
        "id": "5GiSF3h4J_Cj"
      }
    },
    {
      "cell_type": "code",
      "source": [
        "import numpy as np\n",
        "import tensorflow as tf\n",
        "from tensorflow import keras\n",
        "from tensorflow.keras import models, layers, losses, metrics, callbacks, datasets\n",
        "from tensorflow.keras.utils import plot_model\n",
        "from sklearn.linear_model import LogisticRegression\n",
        "from sklearn.pipeline import Pipeline\n",
        "from sklearn.cluster import KMeans\n",
        "from joblib import dump, load\n",
        "import matplotlib.pyplot as plt\n",
        "import warnings\n",
        "warnings.filterwarnings('ignore')\n",
        "seed=42\n",
        "tf.random.set_seed(seed)\n"
      ],
      "metadata": {
        "id": "DXXMVMbvQAHi"
      },
      "execution_count": null,
      "outputs": []
    },
    {
      "cell_type": "code",
      "source": [
        "! pip install memory-profiler"
      ],
      "metadata": {
        "colab": {
          "base_uri": "https://localhost:8080/"
        },
        "id": "9Yj21aGpMH4t",
        "outputId": "d1c89cd6-47cb-4bb7-f4cd-8e82a40aa925"
      },
      "execution_count": null,
      "outputs": [
        {
          "output_type": "stream",
          "name": "stdout",
          "text": [
            "Collecting memory-profiler\n",
            "  Downloading memory_profiler-0.60.0.tar.gz (38 kB)\n",
            "Requirement already satisfied: psutil in /usr/local/lib/python3.7/dist-packages (from memory-profiler) (5.4.8)\n",
            "Building wheels for collected packages: memory-profiler\n",
            "  Building wheel for memory-profiler (setup.py) ... \u001b[?25l\u001b[?25hdone\n",
            "  Created wheel for memory-profiler: filename=memory_profiler-0.60.0-py3-none-any.whl size=31284 sha256=f4376cbcde472b4c795f7331c2f9868a7d026c0b361e08dc04e05a86026ffb5b\n",
            "  Stored in directory: /root/.cache/pip/wheels/67/2b/fb/326e30d638c538e69a5eb0aa47f4223d979f502bbdb403950f\n",
            "Successfully built memory-profiler\n",
            "Installing collected packages: memory-profiler\n",
            "Successfully installed memory-profiler-0.60.0\n"
          ]
        }
      ]
    },
    {
      "cell_type": "code",
      "source": [
        "%load_ext memory_profiler"
      ],
      "metadata": {
        "id": "aDukmVc5QBIp"
      },
      "execution_count": null,
      "outputs": []
    },
    {
      "cell_type": "markdown",
      "source": [
        "## Loading Data"
      ],
      "metadata": {
        "id": "Z76MrujrVwBT"
      }
    },
    {
      "cell_type": "code",
      "source": [
        "(X_train,y_train),(X_test,y_test)=datasets.fashion_mnist.load_data()"
      ],
      "metadata": {
        "id": "aIDnxrn2QVXy",
        "colab": {
          "base_uri": "https://localhost:8080/"
        },
        "outputId": "7c2ae4d4-4305-4a4a-b8fc-e820fad040e1"
      },
      "execution_count": null,
      "outputs": [
        {
          "output_type": "stream",
          "name": "stdout",
          "text": [
            "Downloading data from https://storage.googleapis.com/tensorflow/tf-keras-datasets/train-labels-idx1-ubyte.gz\n",
            "32768/29515 [=================================] - 0s 0us/step\n",
            "40960/29515 [=========================================] - 0s 0us/step\n",
            "Downloading data from https://storage.googleapis.com/tensorflow/tf-keras-datasets/train-images-idx3-ubyte.gz\n",
            "26427392/26421880 [==============================] - 0s 0us/step\n",
            "26435584/26421880 [==============================] - 0s 0us/step\n",
            "Downloading data from https://storage.googleapis.com/tensorflow/tf-keras-datasets/t10k-labels-idx1-ubyte.gz\n",
            "16384/5148 [===============================================================================================] - 0s 0us/step\n",
            "Downloading data from https://storage.googleapis.com/tensorflow/tf-keras-datasets/t10k-images-idx3-ubyte.gz\n",
            "4423680/4422102 [==============================] - 0s 0us/step\n",
            "4431872/4422102 [==============================] - 0s 0us/step\n"
          ]
        }
      ]
    },
    {
      "cell_type": "code",
      "source": [
        "X_train.shape , X_test.shape , y_train.shape , y_test.shape"
      ],
      "metadata": {
        "colab": {
          "base_uri": "https://localhost:8080/"
        },
        "id": "bhojXZzDQWOw",
        "outputId": "bf41f621-41e5-44cd-f17f-8b5ff9814a4b"
      },
      "execution_count": null,
      "outputs": [
        {
          "output_type": "execute_result",
          "data": {
            "text/plain": [
              "((60000, 28, 28), (10000, 28, 28), (60000,), (10000,))"
            ]
          },
          "metadata": {},
          "execution_count": 5
        }
      ]
    },
    {
      "cell_type": "code",
      "source": [
        "y_train"
      ],
      "metadata": {
        "colab": {
          "base_uri": "https://localhost:8080/"
        },
        "id": "ERzxeZAcUHL3",
        "outputId": "d14dd0e6-6587-48f0-e774-c879678d657b"
      },
      "execution_count": null,
      "outputs": [
        {
          "output_type": "execute_result",
          "data": {
            "text/plain": [
              "array([9, 0, 0, ..., 3, 0, 5], dtype=uint8)"
            ]
          },
          "metadata": {},
          "execution_count": 6
        }
      ]
    },
    {
      "cell_type": "code",
      "source": [
        "class_names = [\"T-shirt/top\", \"Trouser\", \"Pullover\", \"Dress\", \"Coat\",\n",
        "               \"Sandal\", \"Shirt\", \"Sneaker\", \"Bag\", \"Ankle boot\"]"
      ],
      "metadata": {
        "id": "86LLi8ovUixA"
      },
      "execution_count": null,
      "outputs": []
    },
    {
      "cell_type": "markdown",
      "source": [
        "There are 60000 images in the training set and 10000 images in the test set. Each image is represented by a  28×28  pixel matrix. Each pixel intensity is represented as a byte (0 to 255)."
      ],
      "metadata": {
        "id": "sUFgZsIlTiSH"
      }
    },
    {
      "cell_type": "markdown",
      "source": [
        "## Plotting an Image:"
      ],
      "metadata": {
        "id": "0yzfwYAED_En"
      }
    },
    {
      "cell_type": "markdown",
      "source": [
        "Let's see an image using Matplotlib's imshow() function, with a 'binary' color map"
      ],
      "metadata": {
        "id": "ZrzN__ftRLVn"
      }
    },
    {
      "cell_type": "code",
      "source": [
        "plt.imshow(X_train[100], cmap=\"binary\")\n",
        "plt.axis('off')\n",
        "plt.show()"
      ],
      "metadata": {
        "colab": {
          "base_uri": "https://localhost:8080/",
          "height": 248
        },
        "id": "SqbEn5c0Qg2l",
        "outputId": "9f31d59a-a11a-4bd9-f2f1-0ae1d60c0f73"
      },
      "execution_count": null,
      "outputs": [
        {
          "output_type": "display_data",
          "data": {
            "text/plain": [
              "<Figure size 432x288 with 1 Axes>"
            ],
            "image/png": "[encoded data removed]"
          },
          "metadata": {
            "needs_background": "light"
          }
        }
      ]
    },
    {
      "cell_type": "code",
      "source": [
        "class_names[y_train[100]]"
      ],
      "metadata": {
        "colab": {
          "base_uri": "https://localhost:8080/",
          "height": 35
        },
        "id": "Aa4NzmRuwHRj",
        "outputId": "6928a80c-2d1f-4dd1-c8ed-1f6e463416d3"
      },
      "execution_count": null,
      "outputs": [
        {
          "output_type": "execute_result",
          "data": {
            "text/plain": [
              "'Bag'"
            ],
            "application/vnd.google.colaboratory.intrinsic+json": {
              "type": "string"
            }
          },
          "metadata": {},
          "execution_count": 9
        }
      ]
    },
    {
      "cell_type": "markdown",
      "source": [
        "So, 100th indexed image in training set is \"Bag\"\n"
      ],
      "metadata": {
        "id": "HXCKdrXyRXW4"
      }
    },
    {
      "cell_type": "markdown",
      "source": [
        "## Data Preprocessing:"
      ],
      "metadata": {
        "id": "K8-VtXw-iSnf"
      }
    },
    {
      "cell_type": "markdown",
      "source": [
        "Pixel intensity of the images are scaled down to 0-1 range by dividing with 255."
      ],
      "metadata": {
        "id": "upv8uUfdEL5-"
      }
    },
    {
      "cell_type": "code",
      "source": [
        "# Normalizing \n",
        "X_train, X_test= X_train/255.0, X_test/255.0"
      ],
      "metadata": {
        "id": "zx5KERUeRBTl"
      },
      "execution_count": null,
      "outputs": []
    },
    {
      "cell_type": "code",
      "source": [
        "X_train[1][0]"
      ],
      "metadata": {
        "colab": {
          "base_uri": "https://localhost:8080/"
        },
        "id": "RpThAt36ixol",
        "outputId": "31046daf-5ee5-4858-9e23-ebfd09ac2877"
      },
      "execution_count": null,
      "outputs": [
        {
          "output_type": "execute_result",
          "data": {
            "text/plain": [
              "array([0.        , 0.        , 0.        , 0.        , 0.        ,\n",
              "       0.00392157, 0.        , 0.        , 0.        , 0.        ,\n",
              "       0.16078431, 0.7372549 , 0.40392157, 0.21176471, 0.18823529,\n",
              "       0.16862745, 0.34117647, 0.65882353, 0.52156863, 0.0627451 ,\n",
              "       0.        , 0.        , 0.        , 0.        , 0.        ,\n",
              "       0.        , 0.        , 0.        ])"
            ]
          },
          "metadata": {},
          "execution_count": 11
        }
      ]
    },
    {
      "cell_type": "markdown",
      "source": [
        "The image matrix is flattened to a 1D array for implementing Logistic Regression."
      ],
      "metadata": {
        "id": "OqnDC7cHEiBo"
      }
    },
    {
      "cell_type": "code",
      "source": [
        "# Flattening data for Logistic Regression\n",
        "X_train_flatten= X_train.reshape(X_train.shape[0],-1)\n",
        "y_train_flatten= y_train.reshape(y_train.shape[0],-1)\n",
        "X_test_flatten= X_test.reshape(X_test.shape[0],-1)\n",
        "y_test_flatten= y_test.reshape(y_test.shape[0],-1)"
      ],
      "metadata": {
        "id": "lGEKZa-TjGy7"
      },
      "execution_count": null,
      "outputs": []
    },
    {
      "cell_type": "markdown",
      "source": [
        "## Supervised Learning"
      ],
      "metadata": {
        "id": "ZQ16C1IPQiom"
      }
    },
    {
      "cell_type": "code",
      "source": [
        "from sklearn.linear_model import LogisticRegression"
      ],
      "metadata": {
        "id": "atUMRhEnqFO9"
      },
      "execution_count": null,
      "outputs": []
    },
    {
      "cell_type": "markdown",
      "source": [
        "Training a Logistic Regression Model using the entire labelled training data. Accuracy obtained here would be the threshold of achievable accuracy using this model with the given hyperparameters."
      ],
      "metadata": {
        "id": "8fCSS9rwF-Iz"
      }
    },
    {
      "cell_type": "code",
      "source": [
        "%%time\n",
        "%%memit\n",
        "\n",
        "log_reg = LogisticRegression(multi_class=\"ovr\", solver=\"lbfgs\", max_iter=5000, random_state=42)\n",
        "log_reg.fit(X_train_flatten, y_train_flatten)\n"
      ],
      "metadata": {
        "colab": {
          "base_uri": "https://localhost:8080/"
        },
        "id": "tPPc6YAZ-Hyo",
        "outputId": "6e7d6d7d-039f-4db3-c310-2b722620e05b"
      },
      "execution_count": null,
      "outputs": [
        {
          "output_type": "stream",
          "name": "stdout",
          "text": [
            "peak memory: 1056.75 MiB, increment: 1.17 MiB\n",
            "CPU times: user 11min 41s, sys: 53.3 s, total: 12min 34s\n",
            "Wall time: 6min 41s\n"
          ]
        }
      ]
    },
    {
      "cell_type": "code",
      "source": [
        "log_reg.score(X_test_flatten, y_test_flatten)"
      ],
      "metadata": {
        "colab": {
          "base_uri": "https://localhost:8080/"
        },
        "id": "TR2Wu6gq-7Rd",
        "outputId": "9a6b0a43-6476-4272-b5b4-429f0a3ce627"
      },
      "execution_count": null,
      "outputs": [
        {
          "output_type": "execute_result",
          "data": {
            "text/plain": [
              "0.841"
            ]
          },
          "metadata": {},
          "execution_count": 17
        }
      ]
    },
    {
      "cell_type": "markdown",
      "source": [
        "Now we train the model using random 300 labeled data and later compare the change in accuracy on Semi-Supervised Learning with Clustering approach."
      ],
      "metadata": {
        "id": "yqzAdVtrZIkn"
      }
    },
    {
      "cell_type": "code",
      "source": [
        "import random\n",
        "val = 0.5\n",
        "arr = [random.random() for i in range(X_train.shape[0])]\n",
        "val_arr = [random.random()>val for i in range(6000)]\n",
        "\n",
        "\n",
        "X_train_random = []\n",
        "y_train_random = []\n",
        "\n",
        "for i in range(X_train.shape[0]):\n",
        "  if val_arr:\n",
        "    X_train_random.append(X_train_flatten[i])\n",
        "    y_train_random.append(y_train_flatten[i])"
      ],
      "metadata": {
        "id": "khn4DPRlRrCk"
      },
      "execution_count": null,
      "outputs": []
    },
    {
      "cell_type": "code",
      "source": [
        "%%time\n",
        "%%memit\n",
        "\n",
        "log_reg_6 = LogisticRegression(multi_class=\"ovr\", solver=\"lbfgs\", random_state=42)\n",
        "log_reg_6.fit(X_train_random[:300], y_train_random[:300])\n",
        "log_reg_6.score(X_test_flatten, y_test_flatten)"
      ],
      "metadata": {
        "colab": {
          "base_uri": "https://localhost:8080/"
        },
        "id": "1gBj39pSYgO6",
        "outputId": "6abe1649-2ec8-4ed1-84a3-d66aee00003c"
      },
      "execution_count": null,
      "outputs": [
        {
          "output_type": "stream",
          "name": "stdout",
          "text": [
            "peak memory: 1700.21 MiB, increment: 1.85 MiB\n",
            "CPU times: user 1.01 s, sys: 611 ms, total: 1.62 s\n",
            "Wall time: 2.23 s\n"
          ]
        }
      ]
    },
    {
      "cell_type": "code",
      "source": [
        "log_reg_6.score(X_test_flatten, y_test_flatten)"
      ],
      "metadata": {
        "colab": {
          "base_uri": "https://localhost:8080/"
        },
        "id": "3_EAEwqqIDj3",
        "outputId": "a5aa1eac-9a76-414c-d2b2-dcba607be0be"
      },
      "execution_count": null,
      "outputs": [
        {
          "output_type": "execute_result",
          "data": {
            "text/plain": [
              "0.7776"
            ]
          },
          "metadata": {},
          "execution_count": 25
        }
      ]
    },
    {
      "cell_type": "markdown",
      "source": [
        "Here the accuracy decreased from 84% to 77%, which is an expected trend."
      ],
      "metadata": {
        "id": "PcVjw1ZlZg2L"
      }
    },
    {
      "cell_type": "markdown",
      "source": [
        "## Semi-Supervised Learning with Clustering"
      ],
      "metadata": {
        "id": "XSa1MSfLVIAj"
      }
    },
    {
      "cell_type": "markdown",
      "source": [
        "Here initially, we cluster the data set using K Means Clustering, in this problem K= 300. Then we find the centroid of each cluster and label the centroids manually and train the model using these 300 labelled data. Later we would progate the label of the cetroid to a nearest fraction of points in each cluster and train the model again and compare its performances"
      ],
      "metadata": {
        "id": "RxvwS50bJofc"
      }
    },
    {
      "cell_type": "code",
      "source": [
        "%%time\n",
        "%%memit\n",
        "\n",
        "k = 300\n",
        "\n",
        "kmeans = KMeans(n_clusters=k, random_state=42)\n",
        "X_digits_dist = kmeans.fit_transform(X_train_flatten)\n",
        "representative_digit_idx = np.argmin(X_digits_dist, axis=0)\n",
        "X_representative_digits = X_train[representative_digit_idx]"
      ],
      "metadata": {
        "id": "S_dKoTkTZWnp",
        "colab": {
          "base_uri": "https://localhost:8080/"
        },
        "outputId": "319a6f11-dfc0-4c76-bb7b-d529322f941d"
      },
      "execution_count": null,
      "outputs": [
        {
          "output_type": "stream",
          "name": "stdout",
          "text": [
            "peak memory: 1844.88 MiB, increment: 0.12 MiB\n",
            "CPU times: user 19min 33s, sys: 1min 15s, total: 20min 49s\n",
            "Wall time: 11min 9s\n"
          ]
        }
      ]
    },
    {
      "cell_type": "code",
      "source": [
        "X_representative_digits[0].shape\n",
        "\n",
        "X_representative_digits = X_representative_digits.reshape(X_representative_digits.shape[0], -1)"
      ],
      "metadata": {
        "id": "5MDJJueYl4By"
      },
      "execution_count": null,
      "outputs": []
    },
    {
      "cell_type": "code",
      "source": [
        "y_train[representative_digit_idx]"
      ],
      "metadata": {
        "id": "rJumjwXWceWN",
        "colab": {
          "base_uri": "https://localhost:8080/"
        },
        "outputId": "ea1af6b7-f526-4dde-d9cc-2b1101ced9e6"
      },
      "execution_count": null,
      "outputs": [
        {
          "output_type": "execute_result",
          "data": {
            "text/plain": [
              "array([5, 3, 2, 4, 8, 1, 9, 0, 6, 4, 0, 8, 6, 8, 1, 8, 4, 1, 7, 8, 2, 9,\n",
              "       8, 6, 7, 3, 2, 2, 9, 4, 2, 0, 8, 9, 9, 7, 6, 0, 4, 9, 7, 2, 0, 3,\n",
              "       4, 0, 3, 6, 2, 8, 9, 4, 1, 1, 5, 9, 1, 1, 7, 6, 4, 5, 3, 1, 9, 3,\n",
              "       1, 3, 0, 2, 8, 1, 2, 8, 3, 2, 0, 4, 9, 0, 9, 0, 1, 7, 4, 9, 9, 5,\n",
              "       5, 2, 0, 9, 4, 0, 0, 2, 3, 6, 4, 5, 2, 5, 6, 4, 0, 7, 8, 6, 5, 9,\n",
              "       7, 4, 7, 5, 8, 7, 4, 1, 6, 0, 6, 6, 3, 8, 2, 1, 4, 9, 7, 2, 9, 7,\n",
              "       8, 7, 3, 0, 5, 8, 8, 7, 8, 9, 4, 2, 4, 4, 9, 6, 2, 8, 6, 7, 4, 6,\n",
              "       1, 8, 3, 9, 3, 7, 1, 2, 4, 9, 9, 9, 2, 0, 8, 3, 3, 8, 5, 1, 8, 6,\n",
              "       9, 1, 9, 9, 8, 4, 9, 6, 3, 0, 9, 0, 2, 8, 9, 2, 0, 5, 2, 5, 4, 9,\n",
              "       2, 3, 4, 1, 2, 1, 8, 4, 9, 4, 6, 1, 6, 7, 4, 5, 8, 9, 9, 0, 2, 4,\n",
              "       9, 6, 5, 9, 3, 4, 3, 8, 4, 2, 1, 4, 5, 9, 2, 0, 3, 6, 5, 6, 3, 0,\n",
              "       9, 9, 6, 1, 0, 9, 0, 6, 8, 6, 8, 3, 0, 4, 1, 7, 0, 2, 4, 2, 6, 8,\n",
              "       6, 8, 3, 9, 2, 6, 2, 3, 0, 2, 2, 4, 5, 5, 0, 7, 3, 0, 8, 2, 1, 9,\n",
              "       2, 4, 7, 9, 7, 3, 4, 9, 0, 3, 8, 9, 8, 5], dtype=uint8)"
            ]
          },
          "metadata": {},
          "execution_count": 54
        }
      ]
    },
    {
      "cell_type": "markdown",
      "source": [
        "Now we have a dataset with 300 labeled instances, but instead of being completely random instances, each of them is a representative image of its cluster. Let's see if the performance is any better:"
      ],
      "metadata": {
        "id": "S0E45xWAc3zf"
      }
    },
    {
      "cell_type": "code",
      "source": [
        "%%time\n",
        "%%memit\n",
        "\n",
        "log_reg_2 = LogisticRegression(multi_class=\"ovr\", solver=\"lbfgs\", max_iter=5000, random_state=42)\n",
        "log_reg_2.fit(X_representative_digits, y_representative_digits)"
      ],
      "metadata": {
        "id": "cFWkudUgctQi",
        "colab": {
          "base_uri": "https://localhost:8080/"
        },
        "outputId": "12a8e726-ee02-4f43-ddf7-1c8bde4d05cc"
      },
      "execution_count": null,
      "outputs": [
        {
          "output_type": "stream",
          "name": "stdout",
          "text": [
            "peak memory: 2002.97 MiB, increment: 0.00 MiB\n",
            "CPU times: user 857 ms, sys: 362 ms, total: 1.22 s\n",
            "Wall time: 872 ms\n"
          ]
        }
      ]
    },
    {
      "cell_type": "code",
      "source": [
        "log_reg_2.score(X_test_flatten, y_test_flatten)"
      ],
      "metadata": {
        "colab": {
          "base_uri": "https://localhost:8080/"
        },
        "id": "5e9nD55E1OsC",
        "outputId": "87fec8e7-a9bd-423e-a6f6-7583eb05f571"
      },
      "execution_count": null,
      "outputs": [
        {
          "output_type": "execute_result",
          "data": {
            "text/plain": [
              "0.7622"
            ]
          },
          "metadata": {},
          "execution_count": 34
        }
      ]
    },
    {
      "cell_type": "markdown",
      "source": [
        "## Comments:\n",
        " - We expected the accuracy of the model to increase when the random images are changes with cetroids. But in the experiment the accuracy decreased.\n"
      ],
      "metadata": {
        "id": "h7yj1WGBpDQy"
      }
    },
    {
      "cell_type": "markdown",
      "source": [
        "## Variations with different K values"
      ],
      "metadata": {
        "id": "8cYk67dMLgkN"
      }
    },
    {
      "cell_type": "code",
      "source": [
        "%%time\n",
        "%%memit\n",
        "\n",
        "k = [50, 100,200, 300]\n",
        "\n",
        "for k_val in k:\n",
        "  kmeans = KMeans(n_clusters=k_val, random_state=42)\n",
        "  X_digits_dist = kmeans.fit_transform(X_train_flatten)\n",
        "  representative_digit_idx = np.argmin(X_digits_dist, axis=0)\n",
        "  X_representative_digits = X_train[representative_digit_idx]\n",
        "  X_representative_digits = X_representative_digits.reshape(X_representative_digits.shape[0], -1)\n",
        "  y_representative_digits = y_train[representative_digit_idx]\n",
        "  log_reg_2 = LogisticRegression(multi_class=\"ovr\", solver=\"lbfgs\", max_iter=5000, random_state=42)\n",
        "  log_reg_2.fit(X_representative_digits, y_representative_digits)\n",
        "  acc = log_reg_2.score(X_test_flatten, y_test_flatten)\n",
        "  print(f\"Accuracy for {k_val} clusters is {acc}\")"
      ],
      "metadata": {
        "id": "x7pH2AvxQNpd",
        "colab": {
          "base_uri": "https://localhost:8080/"
        },
        "outputId": "4c4f284f-1c17-4dd1-f31d-8fb3af73be85"
      },
      "execution_count": null,
      "outputs": [
        {
          "output_type": "stream",
          "name": "stdout",
          "text": [
            "Accuracy for 50 clusters is 0.6628\n",
            "Accuracy for 100 clusters is 0.7046\n",
            "Accuracy for 200 clusters is 0.7673\n",
            "Accuracy for 300 clusters is 0.7622\n",
            "peak memory: 2361.84 MiB, increment: 358.87 MiB\n",
            "CPU times: user 50min, sys: 4min 14s, total: 54min 15s\n",
            "Wall time: 29min 15s\n"
          ]
        }
      ]
    },
    {
      "cell_type": "markdown",
      "source": [
        "\n",
        "## Semi-Supervised Learning with Clustering and Propagating Centroid label to within cluster data points"
      ],
      "metadata": {
        "id": "SMKufzZVU4Od"
      }
    },
    {
      "cell_type": "markdown",
      "source": [
        "Let's consider 300 cluster for further analysis"
      ],
      "metadata": {
        "id": "PZ-B7BP3piFw"
      }
    },
    {
      "cell_type": "code",
      "source": [
        "y_train_propagated = np.empty(len(X_train), dtype=np.int32)\n",
        "for i in range(k):\n",
        "    y_train_propagated[kmeans.labels_==i] = y_representative_digits[i]"
      ],
      "metadata": {
        "id": "GbyAQoaJmFE0"
      },
      "execution_count": null,
      "outputs": []
    },
    {
      "cell_type": "markdown",
      "source": [
        "### Multiclass LR model using clustered data points"
      ],
      "metadata": {
        "id": "BIJZ9WelVzEx"
      }
    },
    {
      "cell_type": "code",
      "source": [
        "%%time\n",
        "%%memit\n",
        "\n",
        "log_reg_3 = LogisticRegression(multi_class=\"ovr\", solver=\"lbfgs\", max_iter=5000, random_state=42)\n",
        "log_reg_3.fit(X_train_flatten, y_train_propagated)"
      ],
      "metadata": {
        "id": "er2Ngu1_mKsZ",
        "colab": {
          "base_uri": "https://localhost:8080/"
        },
        "outputId": "11f6192c-f30a-4cb9-abe2-5ddfc5137e5a"
      },
      "execution_count": null,
      "outputs": [
        {
          "output_type": "stream",
          "name": "stdout",
          "text": [
            "peak memory: 1694.50 MiB, increment: 2.45 MiB\n",
            "CPU times: user 11min 23s, sys: 54.5 s, total: 12min 17s\n",
            "Wall time: 6min 27s\n"
          ]
        }
      ]
    },
    {
      "cell_type": "code",
      "source": [
        "log_reg_3.score(X_test_flatten, y_test_flatten)"
      ],
      "metadata": {
        "id": "DbHxdOM4mNph",
        "colab": {
          "base_uri": "https://localhost:8080/"
        },
        "outputId": "086657c3-cb63-43d4-d1bf-9356a75766ca"
      },
      "execution_count": null,
      "outputs": [
        {
          "output_type": "execute_result",
          "data": {
            "text/plain": [
              "0.7709"
            ]
          },
          "metadata": {},
          "execution_count": 37
        }
      ]
    },
    {
      "cell_type": "markdown",
      "source": [
        "#### Propagating Centroid label to 75th percentile closest to the centroid"
      ],
      "metadata": {
        "id": "OHVuMjgXNYi_"
      }
    },
    {
      "cell_type": "code",
      "source": [
        "%%time\n",
        "%%memit\n",
        "\n",
        "percentile_closest = 75\n",
        "\n",
        "X_cluster_dist = X_digits_dist[np.arange(len(X_train)), kmeans.labels_]\n",
        "for i in range(k):\n",
        "    in_cluster = (kmeans.labels_ == i)\n",
        "    cluster_dist = X_cluster_dist[in_cluster]\n",
        "    cutoff_distance = np.percentile(cluster_dist, percentile_closest)\n",
        "    above_cutoff = (X_cluster_dist > cutoff_distance)\n",
        "    X_cluster_dist[in_cluster & above_cutoff] = -1"
      ],
      "metadata": {
        "id": "YR9TKvjUmQM4",
        "colab": {
          "base_uri": "https://localhost:8080/"
        },
        "outputId": "1bfb8d1d-1a88-4e26-d2a7-2610c6814184"
      },
      "execution_count": null,
      "outputs": [
        {
          "output_type": "stream",
          "name": "stdout",
          "text": [
            "peak memory: 1869.87 MiB, increment: 0.06 MiB\n",
            "CPU times: user 1.06 s, sys: 41.6 ms, total: 1.1 s\n",
            "Wall time: 1.24 s\n"
          ]
        }
      ]
    },
    {
      "cell_type": "code",
      "source": [
        "partially_propagated = (X_cluster_dist != -1)\n",
        "X_train_partially_propagated = X_train_flatten[partially_propagated]\n",
        "y_train_partially_propagated = y_train_propagated[partially_propagated]"
      ],
      "metadata": {
        "id": "DNqjfuMhWXGt"
      },
      "execution_count": null,
      "outputs": []
    },
    {
      "cell_type": "code",
      "source": [
        "%%time\n",
        "%%memit\n",
        "\n",
        "log_reg_4 = LogisticRegression(multi_class=\"ovr\", solver=\"lbfgs\", max_iter=5000, random_state=42)\n",
        "log_reg_4.fit(X_train_partially_propagated, y_train_partially_propagated)"
      ],
      "metadata": {
        "id": "iPM1_fIImUq9",
        "colab": {
          "base_uri": "https://localhost:8080/"
        },
        "outputId": "1cd70d6d-4030-442d-cdf2-74257d6e285f"
      },
      "execution_count": null,
      "outputs": [
        {
          "output_type": "stream",
          "name": "stdout",
          "text": [
            "peak memory: 1694.62 MiB, increment: 0.07 MiB\n",
            "CPU times: user 11min 16s, sys: 51.1 s, total: 12min 7s\n",
            "Wall time: 6min 16s\n"
          ]
        }
      ]
    },
    {
      "cell_type": "code",
      "source": [
        "log_reg_4.score(X_test_flatten, y_test_flatten)"
      ],
      "metadata": {
        "id": "h1H4qZ0HWb_Q",
        "colab": {
          "base_uri": "https://localhost:8080/"
        },
        "outputId": "38b75459-2972-4569-8829-7f029e21c899"
      },
      "execution_count": null,
      "outputs": [
        {
          "output_type": "execute_result",
          "data": {
            "text/plain": [
              "0.7705"
            ]
          },
          "metadata": {},
          "execution_count": 39
        }
      ]
    },
    {
      "cell_type": "markdown",
      "source": [
        "### Comment:\n",
        "- Here also the performace of the model did'nt increase as expected"
      ],
      "metadata": {
        "id": "U3lHQCgFCAe8"
      }
    },
    {
      "cell_type": "markdown",
      "source": [
        "# Thank you!"
      ],
      "metadata": {
        "id": "9GrkO9PnLckg"
      }
    },
    {
      "cell_type": "code",
      "source": [],
      "metadata": {
        "id": "ApcpZnH8CTxx"
      },
      "execution_count": null,
      "outputs": []
    }
  ]
}